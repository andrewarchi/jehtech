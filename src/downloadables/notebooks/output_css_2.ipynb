{
 "cells": [
  {
   "cell_type": "code",
   "execution_count": 1,
   "metadata": {
    "collapsed": true
   },
   "outputs": [],
   "source": [
    "from IPython import display"
   ]
  },
  {
   "cell_type": "markdown",
   "metadata": {},
   "source": [
    "In the previous notebook we tried to modify the CSS of the NB output HTML. Some of the CSS properties we set were applied, but annoyingly not all of them. The reason was that the NB CSS stylesheet for the `.output_html` sections overrides some of our choices.\n",
    "\n",
    "So, lets see if we can make our choices `!important`"
   ]
  },
  {
   "cell_type": "code",
   "execution_count": 3,
   "metadata": {
    "collapsed": false
   },
   "outputs": [
    {
     "data": {
      "text/html": [
       "<style>\n",
       "th {\n",
       "    background: black;\n",
       "    color: white;\n",
       "    font-weight: bold;\n",
       "}\n",
       "td { \n",
       "    vertical-align: top !important;\n",
       "}\n",
       "</style>"
      ],
      "text/plain": [
       "<IPython.core.display.HTML object>"
      ]
     },
     "metadata": {},
     "output_type": "display_data"
    },
    {
     "data": {
      "text/html": [
       "<table>\n",
       "<tr>\n",
       "    <th>Title1</th>\n",
       "    <th>Title 2</th>\n",
       "</tr><tr>\n",
       "    <td>Value 1</td>\n",
       "    <td>Value 2<br/>Something else</td>\n",
       "</tr>\n",
       "</table>"
      ],
      "text/plain": [
       "<IPython.core.display.HTML object>"
      ]
     },
     "metadata": {},
     "output_type": "display_data"
    }
   ],
   "source": [
    "styles = display.HTML(\"\"\"<style>\n",
    "th {\n",
    "    background: black;\n",
    "    color: white;\n",
    "    font-weight: bold;\n",
    "}\n",
    "td { \n",
    "    vertical-align: top !important;\n",
    "}\n",
    "</style>\"\"\")\n",
    "display.display(styles)\n",
    "\n",
    "tbl = display.HTML(\"\"\"<table>\n",
    "<tr>\n",
    "    <th>Title1</th>\n",
    "    <th>Title 2</th>\n",
    "</tr><tr>\n",
    "    <td>Value 1</td>\n",
    "    <td>Value 2<br/>Something else</td>\n",
    "</tr>\n",
    "</table>\"\"\")\n",
    "display.display(tbl)"
   ]
  },
  {
   "cell_type": "markdown",
   "metadata": {},
   "source": [
    "Great, that worked. But we still don't know which properties we set will be overridden. This works but doesn't seem like a great solution..."
   ]
  },
  {
   "cell_type": "code",
   "execution_count": null,
   "metadata": {
    "collapsed": true
   },
   "outputs": [],
   "source": []
  }
 ],
 "metadata": {
  "kernelspec": {
   "display_name": "Python 2",
   "language": "python",
   "name": "python2"
  },
  "language_info": {
   "codemirror_mode": {
    "name": "ipython",
    "version": 2
   },
   "file_extension": ".py",
   "mimetype": "text/x-python",
   "name": "python",
   "nbconvert_exporter": "python",
   "pygments_lexer": "ipython2",
   "version": "2.7.8"
  }
 },
 "nbformat": 4,
 "nbformat_minor": 0
}
