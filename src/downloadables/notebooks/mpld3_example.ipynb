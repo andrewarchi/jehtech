{
 "cells": [
  {
   "cell_type": "code",
   "execution_count": 15,
   "metadata": {
    "collapsed": false
   },
   "outputs": [
    {
     "data": {
      "text/html": [
       "\n",
       "\n",
       "<style>\n",
       "\n",
       "</style>\n",
       "\n",
       "<div id=\"fig_el90241675625765739349326\"></div>\n",
       "<script>\n",
       "function mpld3_load_lib(url, callback){\n",
       "  var s = document.createElement('script');\n",
       "  s.src = url;\n",
       "  s.async = true;\n",
       "  s.onreadystatechange = s.onload = callback;\n",
       "  s.onerror = function(){console.warn(\"failed to load library \" + url);};\n",
       "  document.getElementsByTagName(\"head\")[0].appendChild(s);\n",
       "}\n",
       "\n",
       "if(typeof(mpld3) !== \"undefined\" && mpld3._mpld3IsLoaded){\n",
       "   // already loaded: just create the figure\n",
       "   !function(mpld3){\n",
       "       \n",
       "       mpld3.draw_figure(\"fig_el90241675625765739349326\", {\"axes\": [{\"xlim\": [-10.0, 10.0], \"yscale\": \"linear\", \"axesbg\": \"none\", \"texts\": [], \"zoomable\": true, \"images\": [], \"xdomain\": [-10.0, 10.0], \"ylim\": [-1000.0, 1000.0], \"paths\": [], \"sharey\": [], \"sharex\": [], \"axesbgalpha\": null, \"axes\": [{\"scale\": \"linear\", \"tickformat\": null, \"grid\": {\"gridOn\": false}, \"fontsize\": 10.0, \"position\": \"bottom\", \"nticks\": 5, \"tickvalues\": null}, {\"scale\": \"linear\", \"tickformat\": null, \"grid\": {\"gridOn\": false}, \"fontsize\": 10.0, \"position\": \"left\", \"nticks\": 5, \"tickvalues\": null}], \"lines\": [{\"color\": \"#0000FF\", \"yindex\": 1, \"coordinates\": \"data\", \"dasharray\": \"10,0\", \"zorder\": 2, \"alpha\": 1, \"xindex\": 0, \"linewidth\": 1.0, \"data\": \"data01\", \"id\": \"el9024167997648\"}], \"markers\": [{\"edgecolor\": \"#0000FF\", \"facecolor\": \"#0000FF\", \"edgewidth\": 0.5, \"yindex\": 1, \"coordinates\": \"data\", \"zorder\": 2, \"markerpath\": [[[-3.0, 3.0], [3.0, -3.0], [-3.0, -3.0], [3.0, 3.0]], [\"M\", \"L\", \"M\", \"L\"]], \"alpha\": 1, \"xindex\": 0, \"data\": \"data01\", \"id\": \"el9024167997648pts\"}], \"id\": \"el9024167602224\", \"ydomain\": [-1000.0, 1000.0], \"collections\": [], \"xscale\": \"linear\", \"bbox\": [0.125, 0.125, 0.77500000000000002, 0.77500000000000002]}], \"height\": 320.0, \"width\": 480.0, \"plugins\": [{\"type\": \"reset\"}, {\"enabled\": false, \"button\": true, \"type\": \"zoom\"}, {\"enabled\": false, \"button\": true, \"type\": \"boxzoom\"}], \"data\": {\"data01\": [[-10.0, 1000.0], [-9.166666666666666, 770.2546296296294], [-8.333333333333334, 578.7037037037038], [-7.5, 421.875], [-6.666666666666666, 296.2962962962962], [-5.833333333333333, 198.49537037037035], [-5.0, 125.0], [-4.166666666666666, 72.33796296296293], [-3.333333333333333, 37.037037037037024], [-2.5, 15.625], [-1.666666666666666, 4.629629629629624], [-0.8333333333333321, 0.5787037037037013], [0.0, -0.0], [0.8333333333333339, -0.5787037037037049], [1.6666666666666679, -4.6296296296296395], [2.5, -15.625], [3.333333333333334, -37.03703703703706], [4.166666666666668, -72.33796296296302], [5.0, -125.0], [5.833333333333334, -198.49537037037044], [6.666666666666668, -296.2962962962965], [7.5, -421.875], [8.333333333333336, -578.7037037037042], [9.166666666666668, -770.2546296296299], [10.0, -1000.0]]}, \"id\": \"el9024167562576\"});\n",
       "   }(mpld3);\n",
       "}else if(typeof define === \"function\" && define.amd){\n",
       "   // require.js is available: use it to load d3/mpld3\n",
       "   require.config({paths: {d3: \"https://mpld3.github.io/js/d3.v3.min\"}});\n",
       "   require([\"d3\"], function(d3){\n",
       "      window.d3 = d3;\n",
       "      mpld3_load_lib(\"https://mpld3.github.io/js/mpld3.v0.2.js\", function(){\n",
       "         \n",
       "         mpld3.draw_figure(\"fig_el90241675625765739349326\", {\"axes\": [{\"xlim\": [-10.0, 10.0], \"yscale\": \"linear\", \"axesbg\": \"none\", \"texts\": [], \"zoomable\": true, \"images\": [], \"xdomain\": [-10.0, 10.0], \"ylim\": [-1000.0, 1000.0], \"paths\": [], \"sharey\": [], \"sharex\": [], \"axesbgalpha\": null, \"axes\": [{\"scale\": \"linear\", \"tickformat\": null, \"grid\": {\"gridOn\": false}, \"fontsize\": 10.0, \"position\": \"bottom\", \"nticks\": 5, \"tickvalues\": null}, {\"scale\": \"linear\", \"tickformat\": null, \"grid\": {\"gridOn\": false}, \"fontsize\": 10.0, \"position\": \"left\", \"nticks\": 5, \"tickvalues\": null}], \"lines\": [{\"color\": \"#0000FF\", \"yindex\": 1, \"coordinates\": \"data\", \"dasharray\": \"10,0\", \"zorder\": 2, \"alpha\": 1, \"xindex\": 0, \"linewidth\": 1.0, \"data\": \"data01\", \"id\": \"el9024167997648\"}], \"markers\": [{\"edgecolor\": \"#0000FF\", \"facecolor\": \"#0000FF\", \"edgewidth\": 0.5, \"yindex\": 1, \"coordinates\": \"data\", \"zorder\": 2, \"markerpath\": [[[-3.0, 3.0], [3.0, -3.0], [-3.0, -3.0], [3.0, 3.0]], [\"M\", \"L\", \"M\", \"L\"]], \"alpha\": 1, \"xindex\": 0, \"data\": \"data01\", \"id\": \"el9024167997648pts\"}], \"id\": \"el9024167602224\", \"ydomain\": [-1000.0, 1000.0], \"collections\": [], \"xscale\": \"linear\", \"bbox\": [0.125, 0.125, 0.77500000000000002, 0.77500000000000002]}], \"height\": 320.0, \"width\": 480.0, \"plugins\": [{\"type\": \"reset\"}, {\"enabled\": false, \"button\": true, \"type\": \"zoom\"}, {\"enabled\": false, \"button\": true, \"type\": \"boxzoom\"}], \"data\": {\"data01\": [[-10.0, 1000.0], [-9.166666666666666, 770.2546296296294], [-8.333333333333334, 578.7037037037038], [-7.5, 421.875], [-6.666666666666666, 296.2962962962962], [-5.833333333333333, 198.49537037037035], [-5.0, 125.0], [-4.166666666666666, 72.33796296296293], [-3.333333333333333, 37.037037037037024], [-2.5, 15.625], [-1.666666666666666, 4.629629629629624], [-0.8333333333333321, 0.5787037037037013], [0.0, -0.0], [0.8333333333333339, -0.5787037037037049], [1.6666666666666679, -4.6296296296296395], [2.5, -15.625], [3.333333333333334, -37.03703703703706], [4.166666666666668, -72.33796296296302], [5.0, -125.0], [5.833333333333334, -198.49537037037044], [6.666666666666668, -296.2962962962965], [7.5, -421.875], [8.333333333333336, -578.7037037037042], [9.166666666666668, -770.2546296296299], [10.0, -1000.0]]}, \"id\": \"el9024167562576\"});\n",
       "      });\n",
       "    });\n",
       "}else{\n",
       "    // require.js not available: dynamically load d3 & mpld3\n",
       "    mpld3_load_lib(\"https://mpld3.github.io/js/d3.v3.min.js\", function(){\n",
       "         mpld3_load_lib(\"https://mpld3.github.io/js/mpld3.v0.2.js\", function(){\n",
       "                 \n",
       "                 mpld3.draw_figure(\"fig_el90241675625765739349326\", {\"axes\": [{\"xlim\": [-10.0, 10.0], \"yscale\": \"linear\", \"axesbg\": \"none\", \"texts\": [], \"zoomable\": true, \"images\": [], \"xdomain\": [-10.0, 10.0], \"ylim\": [-1000.0, 1000.0], \"paths\": [], \"sharey\": [], \"sharex\": [], \"axesbgalpha\": null, \"axes\": [{\"scale\": \"linear\", \"tickformat\": null, \"grid\": {\"gridOn\": false}, \"fontsize\": 10.0, \"position\": \"bottom\", \"nticks\": 5, \"tickvalues\": null}, {\"scale\": \"linear\", \"tickformat\": null, \"grid\": {\"gridOn\": false}, \"fontsize\": 10.0, \"position\": \"left\", \"nticks\": 5, \"tickvalues\": null}], \"lines\": [{\"color\": \"#0000FF\", \"yindex\": 1, \"coordinates\": \"data\", \"dasharray\": \"10,0\", \"zorder\": 2, \"alpha\": 1, \"xindex\": 0, \"linewidth\": 1.0, \"data\": \"data01\", \"id\": \"el9024167997648\"}], \"markers\": [{\"edgecolor\": \"#0000FF\", \"facecolor\": \"#0000FF\", \"edgewidth\": 0.5, \"yindex\": 1, \"coordinates\": \"data\", \"zorder\": 2, \"markerpath\": [[[-3.0, 3.0], [3.0, -3.0], [-3.0, -3.0], [3.0, 3.0]], [\"M\", \"L\", \"M\", \"L\"]], \"alpha\": 1, \"xindex\": 0, \"data\": \"data01\", \"id\": \"el9024167997648pts\"}], \"id\": \"el9024167602224\", \"ydomain\": [-1000.0, 1000.0], \"collections\": [], \"xscale\": \"linear\", \"bbox\": [0.125, 0.125, 0.77500000000000002, 0.77500000000000002]}], \"height\": 320.0, \"width\": 480.0, \"plugins\": [{\"type\": \"reset\"}, {\"enabled\": false, \"button\": true, \"type\": \"zoom\"}, {\"enabled\": false, \"button\": true, \"type\": \"boxzoom\"}], \"data\": {\"data01\": [[-10.0, 1000.0], [-9.166666666666666, 770.2546296296294], [-8.333333333333334, 578.7037037037038], [-7.5, 421.875], [-6.666666666666666, 296.2962962962962], [-5.833333333333333, 198.49537037037035], [-5.0, 125.0], [-4.166666666666666, 72.33796296296293], [-3.333333333333333, 37.037037037037024], [-2.5, 15.625], [-1.666666666666666, 4.629629629629624], [-0.8333333333333321, 0.5787037037037013], [0.0, -0.0], [0.8333333333333339, -0.5787037037037049], [1.6666666666666679, -4.6296296296296395], [2.5, -15.625], [3.333333333333334, -37.03703703703706], [4.166666666666668, -72.33796296296302], [5.0, -125.0], [5.833333333333334, -198.49537037037044], [6.666666666666668, -296.2962962962965], [7.5, -421.875], [8.333333333333336, -578.7037037037042], [9.166666666666668, -770.2546296296299], [10.0, -1000.0]]}, \"id\": \"el9024167562576\"});\n",
       "            })\n",
       "         });\n",
       "}\n",
       "</script>"
      ],
      "text/plain": [
       "<IPython.core.display.HTML object>"
      ]
     },
     "metadata": {},
     "output_type": "display_data"
    }
   ],
   "source": [
    "import numpy as np\n",
    "from IPython.html import widgets\n",
    "from IPython import display\n",
    "import matplotlib.pyplot as plt, mpld3\n",
    "%matplotlib inline \n",
    "\n",
    "graphChoice = widgets.Select(options=['a', 'b', 'c', 'd'])\n",
    "plotBtn     = widgets.Button(description=\"Plot\")\n",
    "\n",
    "def PlotIt(btn):\n",
    "    display.clear_output()    \n",
    "    fig, ax = plt.subplots()\n",
    "    x = np.linspace(-10,10,25)\n",
    "    if graphChoice.value == 'a': y = np.power(x, 2)\n",
    "    if graphChoice.value == 'b': y = np.power(x, 3)\n",
    "    if graphChoice.value == 'c': y = -np.power(x, 2)\n",
    "    if graphChoice.value == 'd': y = -np.power(x, 3)        \n",
    "    ax.plot(x,y, marker='x')\n",
    "    mpld3Fig = mpld3.display(fig) # Auto removes `fig`\n",
    "    display.display(mpld3Fig)\n",
    "\n",
    "plotBtn.on_click(PlotIt)\n",
    "display.display(graphChoice)\n",
    "display.display(plotBtn)"
   ]
  },
  {
   "cell_type": "code",
   "execution_count": null,
   "metadata": {
    "collapsed": true
   },
   "outputs": [],
   "source": []
  }
 ],
 "metadata": {
  "kernelspec": {
   "display_name": "Python 2",
   "language": "python",
   "name": "python2"
  },
  "language_info": {
   "codemirror_mode": {
    "name": "ipython",
    "version": 2
   },
   "file_extension": ".py",
   "mimetype": "text/x-python",
   "name": "python",
   "nbconvert_exporter": "python",
   "pygments_lexer": "ipython2",
   "version": "2.7.8"
  }
 },
 "nbformat": 4,
 "nbformat_minor": 0
}
